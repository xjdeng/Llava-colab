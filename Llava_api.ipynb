{
  "nbformat": 4,
  "nbformat_minor": 0,
  "metadata": {
    "colab": {
      "provenance": [],
      "authorship_tag": "ABX9TyNRBrYJXlOX/3/0w2CD25rl",
      "include_colab_link": true
    },
    "kernelspec": {
      "name": "python3",
      "display_name": "Python 3"
    },
    "language_info": {
      "name": "python"
    }
  },
  "cells": [
    {
      "cell_type": "markdown",
      "metadata": {
        "id": "view-in-github",
        "colab_type": "text"
      },
      "source": [
        "<a href=\"https://colab.research.google.com/github/xjdeng/Llava-colab/blob/main/Llava_api.ipynb\" target=\"_parent\"><img src=\"https://colab.research.google.com/assets/colab-badge.svg\" alt=\"Open In Colab\"/></a>"
      ]
    },
    {
      "cell_type": "code",
      "source": [
        "prompt = \"Caption this image\" # @param {\"type\":\"string\",\"placeholder\":\"Caption this image\"}\n",
        "gradio_url = \"https://8b5441fa7340c4e8fc.gradio.live\" # @param {\"type\":\"string\"}\n",
        "\n"
      ],
      "metadata": {
        "id": "UIhl7H9e1KpB"
      },
      "execution_count": null,
      "outputs": []
    },
    {
      "cell_type": "code",
      "execution_count": null,
      "metadata": {
        "id": "mxwSf9Kf0u1L"
      },
      "outputs": [],
      "source": [
        "!pip install -q gradio path.py==12.0.1 gradio_client==0.2.9\n",
        "!git clone https://github.com/xjdeng/Llava-colab\n",
        "import base64\n",
        "import requests\n",
        "import random\n",
        "import tempfile, cv2\n",
        "import json\n",
        "from gradio_client import Client\n",
        "from path import Path as path\n",
        "from PIL import Image"
      ]
    },
    {
      "cell_type": "code",
      "source": [
        "client = Client(gradio_url)\n",
        "def label(f, strict = False, temperature = 0.01):\n",
        "    if strict:\n",
        "        tempdir = tempfile.TemporaryDirectory()\n",
        "        img = cv2.imread(f)\n",
        "        dest = \"{}/{}.jpg\".format(tempdir.name, str(path(f).stem))\n",
        "        cv2.imwrite(dest, img)\n",
        "        f = dest\n",
        "    lab = client.predict(f, prompt, temperature)[0]\n",
        "    return lab"
      ],
      "metadata": {
        "id": "XGfIAfja0z4c"
      },
      "execution_count": null,
      "outputs": []
    },
    {
      "cell_type": "code",
      "source": [
        "image1 = \"Llava-colab/image1.png\"\n",
        "image2 = \"Llava-colab/image2.png\""
      ],
      "metadata": {
        "id": "ckSIV_XS5Ymb"
      },
      "execution_count": null,
      "outputs": []
    },
    {
      "cell_type": "code",
      "source": [
        "Image.open(image1)\n"
      ],
      "metadata": {
        "id": "QapDVFFD5jSs"
      },
      "execution_count": null,
      "outputs": []
    },
    {
      "cell_type": "code",
      "source": [
        "print(label(image1))"
      ],
      "metadata": {
        "id": "8U2u07PZ6BQs"
      },
      "execution_count": null,
      "outputs": []
    },
    {
      "cell_type": "code",
      "source": [
        "Image.open(image2)\n"
      ],
      "metadata": {
        "id": "yWW7dCAJ4WUD"
      },
      "execution_count": null,
      "outputs": []
    },
    {
      "cell_type": "code",
      "source": [
        "print(label(image2))"
      ],
      "metadata": {
        "id": "A4cP6O1c4Z1Q"
      },
      "execution_count": null,
      "outputs": []
    },
    {
      "cell_type": "code",
      "source": [],
      "metadata": {
        "id": "Z96UOn366Dnk"
      },
      "execution_count": null,
      "outputs": []
    }
  ]
}