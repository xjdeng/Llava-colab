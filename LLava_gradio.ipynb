{
  "nbformat": 4,
  "nbformat_minor": 0,
  "metadata": {
    "colab": {
      "provenance": [],
      "gpuType": "T4",
      "authorship_tag": "ABX9TyMRN8xdg7ADcnS8x5ABL6g6",
      "include_colab_link": true
    },
    "kernelspec": {
      "name": "python3",
      "display_name": "Python 3"
    },
    "language_info": {
      "name": "python"
    },
    "accelerator": "GPU"
  },
  "cells": [
    {
      "cell_type": "markdown",
      "metadata": {
        "id": "view-in-github",
        "colab_type": "text"
      },
      "source": [
        "<a href=\"https://colab.research.google.com/github/xjdeng/Llava-colab/blob/main/LLava_gradio.ipynb\" target=\"_parent\"><img src=\"https://colab.research.google.com/assets/colab-badge.svg\" alt=\"Open In Colab\"/></a>"
      ]
    },
    {
      "cell_type": "code",
      "execution_count": null,
      "metadata": {
        "id": "UpaC8vuVTsEp"
      },
      "outputs": [],
      "source": [
        "model_path = \"liuhaotian/llava-v1.6-vicuna-7b\" # @param {\"type\":\"string\",\"placeholder\":\"\\\"liuhaotian/llava-v1.6-vicuna-7b\\\"\"}\n",
        "%cd /content\n",
        "!git clone https://github.com/xjdeng/LLaVA\n",
        "%cd /content/LLaVA\n",
        "!git clone https://github.com/xjdeng/Llava-colab\n",
        "!pip install -q -r Llava-colab/requirements.txt\n",
        "!pip install -q gradio ."
      ]
    },
    {
      "cell_type": "code",
      "source": [
        "%cd Llava-colab\n",
        "!git pull\n",
        "%cd ..\n",
        "!cp Llava-colab/backend.py ."
      ],
      "metadata": {
        "id": "z1fyCLtuU7C0"
      },
      "execution_count": null,
      "outputs": []
    },
    {
      "cell_type": "code",
      "source": [
        "!python backend.py $model_path"
      ],
      "metadata": {
        "id": "PIg3LjMqUC8w"
      },
      "execution_count": null,
      "outputs": []
    },
    {
      "cell_type": "code",
      "source": [],
      "metadata": {
        "id": "VC8JQNrrVaN0"
      },
      "execution_count": null,
      "outputs": []
    }
  ]
}